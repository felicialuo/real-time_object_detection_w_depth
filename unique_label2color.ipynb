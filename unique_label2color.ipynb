{
 "cells": [
  {
   "cell_type": "code",
   "execution_count": 1,
   "metadata": {},
   "outputs": [
    {
     "name": "stdout",
     "output_type": "stream",
     "text": [
      "defaultdict(<class 'int'>, {'person': 57494, 'chair': 34878, 'diningtable': 9181, 'bench': 136, 'bottle': 940, 'cup': 4943, 'book': 214, 'frisbee': 4, 'cell phone': 1237, 'laptop': 21, 'bowl': 5744, 'pizza': 387, 'cake': 200, 'mouse': 3, 'remote': 86, 'dog': 38, 'handbag': 10, 'fork': 2, 'spoon': 8, 'sofa': 4, 'tvmonitor': 1, 'backpack': 45, 'cat': 2, 'bicycle': 1, 'suitcase': 1})\n"
     ]
    }
   ],
   "source": [
    "import os\n",
    "import csv\n",
    "import collections\n",
    "\n",
    "DATASET_FOLDER = '../datasets/event_20240405_18_06_48_fps1_clip_1_0/'\n",
    "PATH_DET_CSV = DATASET_FOLDER + 'object_detection_csv'\n",
    "all_csv = sorted([f for f in os.listdir(PATH_DET_CSV)])\n",
    "\n",
    "unique_labels = collections.defaultdict(int)\n",
    "for csv_path in all_csv:\n",
    "    path = os.path.join(PATH_DET_CSV, csv_path)\n",
    "    with open(path, mode=\"r\") as file:\n",
    "        reader = csv.reader(file)\n",
    "        next(reader)\n",
    "        for row in reader:\n",
    "            label = row[0]\n",
    "            unique_labels[label] += 1\n",
    "\n",
    "print(unique_labels)"
   ]
  },
  {
   "cell_type": "code",
   "execution_count": 2,
   "metadata": {},
   "outputs": [],
   "source": [
    "unique_labels = dict(sorted(unique_labels.items(), key=lambda item: item[1], reverse=True))"
   ]
  },
  {
   "cell_type": "code",
   "execution_count": 3,
   "metadata": {},
   "outputs": [
    {
     "name": "stdout",
     "output_type": "stream",
     "text": [
      "25\n",
      "{'person': 57494, 'chair': 34878, 'diningtable': 9181, 'bowl': 5744, 'cup': 4943, 'cell phone': 1237, 'bottle': 940, 'pizza': 387, 'book': 214, 'cake': 200, 'bench': 136, 'remote': 86, 'backpack': 45, 'dog': 38, 'laptop': 21, 'handbag': 10, 'spoon': 8, 'frisbee': 4, 'sofa': 4, 'mouse': 3, 'fork': 2, 'cat': 2, 'tvmonitor': 1, 'bicycle': 1, 'suitcase': 1}\n",
      "dict_keys(['person', 'chair', 'diningtable', 'bowl', 'cup', 'cell phone', 'bottle', 'pizza', 'book', 'cake', 'bench', 'remote', 'backpack', 'dog', 'laptop', 'handbag', 'spoon', 'frisbee', 'sofa', 'mouse', 'fork', 'cat', 'tvmonitor', 'bicycle', 'suitcase'])\n"
     ]
    }
   ],
   "source": [
    "print(len(unique_labels))\n",
    "print(unique_labels)\n",
    "print(unique_labels.keys())"
   ]
  },
  {
   "cell_type": "code",
   "execution_count": 13,
   "metadata": {},
   "outputs": [
    {
     "name": "stdout",
     "output_type": "stream",
     "text": [
      "25\n",
      "[(254, 136, 186), (124, 242, 168), (43, 162, 114), (43, 78, 177), (50, 177, 163), (113, 96, 35), (168, 219, 45), (32, 171, 220), (2, 116, 172), (136, 222, 54), (102, 226, 138), (235, 64, 138), (107, 62, 210), (60, 254, 218), (64, 255, 153), (47, 188, 76), (3, 183, 4), (210, 242, 114), (83, 50, 70), (131, 192, 125), (172, 17, 24), (40, 121, 134), (215, 238, 214), (200, 240, 45), (206, 62, 185)]\n"
     ]
    }
   ],
   "source": [
    "import random\n",
    "random.seed(50)\n",
    "\n",
    "colors = [(random.randint(0, 255), random.randint(0, 255), random.randint(0, 255)) for _ in range(len(unique_labels))]\n",
    "print(len(colors))\n",
    "print(colors)\n"
   ]
  },
  {
   "cell_type": "code",
   "execution_count": 14,
   "metadata": {},
   "outputs": [],
   "source": [
    "import csv\n",
    "# save csv with index, class label, rgb color\n",
    "with open(\"unique_label2color.csv\", mode=\"w\", newline='') as file:\n",
    "    writer = csv.writer(file)\n",
    "    writer.writerow([\"Index\", \"Class Label\", \"RGB Color\"])\n",
    "    for i in range(len(unique_labels)):\n",
    "        writer.writerow([i, list(unique_labels.keys())[i]] + list(colors[i]))"
   ]
  }
 ],
 "metadata": {
  "kernelspec": {
   "display_name": "systoolchain",
   "language": "python",
   "name": "python3"
  },
  "language_info": {
   "codemirror_mode": {
    "name": "ipython",
    "version": 3
   },
   "file_extension": ".py",
   "mimetype": "text/x-python",
   "name": "python",
   "nbconvert_exporter": "python",
   "pygments_lexer": "ipython3",
   "version": "3.8.19"
  }
 },
 "nbformat": 4,
 "nbformat_minor": 2
}
