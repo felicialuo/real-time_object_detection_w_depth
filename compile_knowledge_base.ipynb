{
 "cells": [
  {
   "cell_type": "code",
   "execution_count": 15,
   "metadata": {},
   "outputs": [],
   "source": [
    "## SPECIFY THESE ##\n",
    "DATASET_FOLDER = '../datasets/event_20240405_18_06_48_fps1_clip_1_0/' # folder of images\n",
    "# use environment vclap"
   ]
  },
  {
   "cell_type": "code",
   "execution_count": 16,
   "metadata": {},
   "outputs": [],
   "source": [
    "import os\n",
    "# Path Configs\n",
    "DIR_clip = DATASET_FOLDER + 'activity_recognition_clip'\n",
    "DIR_vclip = DATASET_FOLDER + 'activity_recognition_vclip'\n",
    "DIR_sklt_act_recog = DATASET_FOLDER + 'skeleton_act_recog'\n",
    "DIR_obj_det = DATASET_FOLDER + 'object_detection_csv'"
   ]
  },
  {
   "cell_type": "code",
   "execution_count": 17,
   "metadata": {},
   "outputs": [],
   "source": [
    "import csv\n",
    "\n",
    "def compile(dataset_folder, header, DIR_IN):\n",
    "    PATH_OUT = dataset_folder + header.replace(\" \", \"_\") + \".csv\"\n",
    "    all_csv = sorted([f for f in os.listdir(DIR_IN)])\n",
    "    with open(PATH_OUT, mode='w', newline='') as file:\n",
    "        writer = csv.writer(file)\n",
    "        writer.writerow([header] + [\" \"]*49 )\n",
    "        for csv_path in all_csv:\n",
    "            to_write = []\n",
    "            with open(os.path.join(DIR_IN, csv_path), mode='r') as label_file:\n",
    "                reader  = csv.reader(label_file)\n",
    "                next(reader)\n",
    "                for row in reader:\n",
    "                    to_write.extend(row[:2])\n",
    "            # make sure all rows are same length\n",
    "            if len(to_write) < 50: to_write += [\" \"] * (50 - len(to_write))\n",
    "            writer.writerow([csv_path[:8].replace(\"_\", \":\")] + to_write)\n"
   ]
  },
  {
   "cell_type": "code",
   "execution_count": 18,
   "metadata": {},
   "outputs": [],
   "source": [
    "compile(DATASET_FOLDER, 'activity recognition using CLIP', DIR_clip)"
   ]
  },
  {
   "cell_type": "code",
   "execution_count": 19,
   "metadata": {},
   "outputs": [],
   "source": [
    "compile(DATASET_FOLDER,  'activity recognition using video finetuned CLIP', DIR_vclip)"
   ]
  },
  {
   "cell_type": "code",
   "execution_count": 20,
   "metadata": {},
   "outputs": [],
   "source": [
    "compile(DATASET_FOLDER, 'skeleton-based activity recognition', DIR_sklt_act_recog)"
   ]
  },
  {
   "cell_type": "code",
   "execution_count": 21,
   "metadata": {},
   "outputs": [],
   "source": [
    "compile(DATASET_FOLDER,'object detection using YOLO', DIR_obj_det)"
   ]
  }
 ],
 "metadata": {
  "kernelspec": {
   "display_name": "systoolchain",
   "language": "python",
   "name": "python3"
  },
  "language_info": {
   "codemirror_mode": {
    "name": "ipython",
    "version": 3
   },
   "file_extension": ".py",
   "mimetype": "text/x-python",
   "name": "python",
   "nbconvert_exporter": "python",
   "pygments_lexer": "ipython3",
   "version": "3.8.19"
  }
 },
 "nbformat": 4,
 "nbformat_minor": 2
}
