{
 "cells": [
  {
   "cell_type": "code",
   "execution_count": 1,
   "metadata": {},
   "outputs": [],
   "source": [
    "## SPECIFY THESE ##\n",
    "DATASET_FOLDER = '../datasets/event_20240405_18_06_48_fps1_clip_1_0/'"
   ]
  },
  {
   "cell_type": "code",
   "execution_count": 2,
   "metadata": {},
   "outputs": [],
   "source": [
    "import pyrealsense2 as rs\n",
    "import json\n",
    "import numpy as np\n",
    "import matplotlib.pyplot as plt\n",
    "import csv\n",
    "import cv2\n",
    "import os\n",
    "from tqdm import tqdm"
   ]
  },
  {
   "cell_type": "code",
   "execution_count": 4,
   "metadata": {},
   "outputs": [],
   "source": [
    "# Path Configs\n",
    "PATH_DEPTH  = DATASET_FOLDER + 'depth/'\n",
    "PATH_COLOR = DATASET_FOLDER + 'color'\n",
    "PATH_DET = DATASET_FOLDER + 'object_detection'\n",
    "PATH_DET_CSV = DATASET_FOLDER + 'object_detection_csv'\n",
    "PATH_OBJ3D_CSV = DATASET_FOLDER + 'object_3Dcoord_csv'\n",
    "PATH_WHOLESCENE_CSV = DATASET_FOLDER + 'whole_scene_csv'\n",
    "os.makedirs(PATH_OBJ3D_CSV, exist_ok=True)\n",
    "os.makedirs(PATH_WHOLESCENE_CSV, exist_ok=True)"
   ]
  },
  {
   "cell_type": "code",
   "execution_count": 8,
   "metadata": {},
   "outputs": [],
   "source": [
    "# read camera intrinsics\n",
    "json_path = os.path.join(DATASET_FOLDER, 'camera_intrinsic.json')\n",
    "with open(json_path, 'r') as file:\n",
    "    data = json.load(file)\n",
    "intrinsics = rs.pyrealsense2.intrinsics()\n",
    "intrinsics.width = data['width']\n",
    "intrinsics.height = data['height']\n",
    "intrinsics.ppx = data['intrinsic_matrix'][6]\n",
    "intrinsics.ppy = data['intrinsic_matrix'][7]\n",
    "intrinsics.fx = data['intrinsic_matrix'][0]\n",
    "intrinsics.fy = data['intrinsic_matrix'][4]\n",
    "intrinsics.model = rs.pyrealsense2.distortion.brown_conrady\n",
    "intrinsics.coeffs = [0.0, 0.0, 0.0, 0.0, 0.0]"
   ]
  },
  {
   "cell_type": "code",
   "execution_count": null,
   "metadata": {},
   "outputs": [],
   "source": [
    "'''get obj centers 3D coords'''\n",
    "all_det_csv = sorted([f for f in os.listdir(PATH_DET_CSV)])\n",
    "for det_csv in tqdm(all_det_csv):\n",
    "    OBJ3D_csv_path = os.path.join(PATH_OBJ3D_CSV, det_csv)\n",
    "    det_csv_path = os.path.join(PATH_DET_CSV, det_csv)\n",
    "    with open(OBJ3D_csv_path, 'w', newline='') as obj3d_file:\n",
    "        with open(det_csv_path,'r' ) as det_file:\n",
    "            reader = csv.reader(det_file)\n",
    "            next(reader)\n",
    "            writer = csv.writer(obj3d_file)\n",
    "            writer.writerow([\"Object Class Label\",\"confidence\", \"x\", \"y\", \"z\"])\n",
    "\n",
    "            for row in reader:\n",
    "                label, confidence, left, top, right, bottom, center_dist = row\n",
    "                left, top, right, bottom, center_dist = int(left), int(top), int(right), int(bottom), float(center_dist) * 1000\n",
    "                x, y, z =  rs.rs2_deproject_pixel_to_point(intrinsics, [(left+right)/2, (top+bottom)/2], center_dist)\n",
    "                writer.writerow([label, confidence, x, y, z])"
   ]
  },
  {
   "cell_type": "code",
   "execution_count": 7,
   "metadata": {},
   "outputs": [
    {
     "name": "stderr",
     "output_type": "stream",
     "text": [
      "  0%|          | 0/9671 [00:00<?, ?it/s]"
     ]
    },
    {
     "name": "stderr",
     "output_type": "stream",
     "text": [
      "100%|██████████| 9671/9671 [1:01:26<00:00,  2.62it/s]\n"
     ]
    }
   ],
   "source": [
    "'''get whole scene 2.5D'''\n",
    "all_color_frame = sorted([f for f in os.listdir(PATH_COLOR)])\n",
    "for color_file in tqdm(all_color_frame):\n",
    "    color_path = os.path.join(PATH_COLOR, color_file)\n",
    "    depth_path = os.path.join(PATH_DEPTH, color_file.replace(\".jpg\", \".npz\"))\n",
    "    whole_scene_path = os.path.join(PATH_WHOLESCENE_CSV, color_file.replace(\".jpg\", \".csv\"))\n",
    "    with open(whole_scene_path, 'w', newline='') as csvfile:\n",
    "        color = cv2.imread(color_path)\n",
    "        depth = np.load(depth_path)[\"arr_0\"]\n",
    "        writer = csv.writer(csvfile)\n",
    "\n",
    "        points = []\n",
    "        for h in range(intrinsics.height):\n",
    "            for w in range(intrinsics.width):\n",
    "                if h % 2 == 0 and w % 2 == 0: # downsample\n",
    "                    point3d = rs.rs2_deproject_pixel_to_point(intrinsics, [w, h], depth[h, w])\n",
    "                    if point3d[2] > 8000: continue\n",
    "                    points.append(point3d)\n",
    "                    rgb = color[h, w, :]\n",
    "                    \n",
    "                    writer.writerow(point3d + list(rgb))\n"
   ]
  }
 ],
 "metadata": {
  "kernelspec": {
   "display_name": "systoolchain",
   "language": "python",
   "name": "python3"
  },
  "language_info": {
   "codemirror_mode": {
    "name": "ipython",
    "version": 3
   },
   "file_extension": ".py",
   "mimetype": "text/x-python",
   "name": "python",
   "nbconvert_exporter": "python",
   "pygments_lexer": "ipython3",
   "version": "3.8.19"
  }
 },
 "nbformat": 4,
 "nbformat_minor": 2
}
